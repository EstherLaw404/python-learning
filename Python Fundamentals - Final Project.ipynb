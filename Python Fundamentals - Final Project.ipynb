{
 "cells": [
  {
   "cell_type": "code",
   "execution_count": 31,
   "id": "f80dc2c5",
   "metadata": {},
   "outputs": [
    {
     "data": {
      "application/vnd.jupyter.widget-view+json": {
       "model_id": "e5ebf7e9aaed462da9726f3527463abf",
       "version_major": 2,
       "version_minor": 0
      },
      "text/plain": [
       "Dropdown(description='Select a Column:', options=('total_bill', 'tip', 'sex', 'smoker', 'day', 'time', 'size')…"
      ]
     },
     "metadata": {},
     "output_type": "display_data"
    },
    {
     "data": {
      "application/vnd.jupyter.widget-view+json": {
       "model_id": "de3344504b3c4de296821f61aa9a3e20",
       "version_major": 2,
       "version_minor": 0
      },
      "text/plain": [
       "Button(description='Sum', style=ButtonStyle())"
      ]
     },
     "metadata": {},
     "output_type": "display_data"
    },
    {
     "name": "stdout",
     "output_type": "stream",
     "text": [
      "4827.77\n",
      "731.5799999999999\n"
     ]
    }
   ],
   "source": [
    "import pandas as pd\n",
    "import seaborn as sns\n",
    "from ipywidgets import interact,interactive,fixed\n",
    "import ipywidgets as widgets\n",
    "from IPython.display import display\n",
    "\n",
    "# Load the \"tips\" dataset from Seaborn\n",
    "tips = sns.load_dataset('tips')\n",
    "\n",
    "# Create a function to calculate the sum of a selected column\n",
    "def calculate_sum(column_name):\n",
    "    if column_name in tips.columns:\n",
    "        result = tips[column_name].sum()\n",
    "        print(result)\n",
    "    else:\n",
    "        print('column not found')\n",
    "        \n",
    "# Create widgets for user interaction\n",
    "column_selector = widgets.Dropdown(\n",
    "    options=list(tips.columns),\n",
    "    description='Select a Column:',\n",
    ")\n",
    "\n",
    "calculate_button = widgets.Button(\n",
    "    description='Sum'\n",
    ")\n",
    "\n",
    "# Define an event handler for the button click\n",
    "def on_calculate_button_click(b):\n",
    "    selected_column = column_selector.value\n",
    "    calculate_sum(selected_column)\n",
    "\n",
    "calculate_button.on_click(on_calculate_button_click)\n",
    "\n",
    "# Create the GUI layout\n",
    "\n",
    "# Display the GUI\n",
    "display(column_selector)\n",
    "display(calculate_button)"
   ]
  },
  {
   "cell_type": "code",
   "execution_count": null,
   "id": "1a1ce1d2",
   "metadata": {},
   "outputs": [],
   "source": []
  }
 ],
 "metadata": {
  "kernelspec": {
   "display_name": "Python 3 (ipykernel)",
   "language": "python",
   "name": "python3"
  },
  "language_info": {
   "codemirror_mode": {
    "name": "ipython",
    "version": 3
   },
   "file_extension": ".py",
   "mimetype": "text/x-python",
   "name": "python",
   "nbconvert_exporter": "python",
   "pygments_lexer": "ipython3",
   "version": "3.11.5"
  }
 },
 "nbformat": 4,
 "nbformat_minor": 5
}
